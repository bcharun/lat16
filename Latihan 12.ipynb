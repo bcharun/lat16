{
 "cells": [
  {
   "cell_type": "code",
   "execution_count": 31,
   "metadata": {},
   "outputs": [
    {
     "name": "stdout",
     "output_type": "stream",
     "text": [
      "[44629 82881 43035 ... 60963 23326 53294]\n",
      "55001.101866\n"
     ]
    }
   ],
   "source": [
    "import numpy as np\n",
    "import math\n",
    "income = np.random.randint(10000,100000,1000000)\n",
    "print(income)\n",
    "print(np.average(income))"
   ]
  },
  {
   "cell_type": "code",
   "execution_count": 32,
   "metadata": {},
   "outputs": [
    {
     "name": "stdout",
     "output_type": "stream",
     "text": [
      "[[563579 311073]\n",
      " [179516 456853]\n",
      " [ 45223 449345]\n",
      " ...\n",
      " [368700 198046]\n",
      " [341033 275558]\n",
      " [367997  41860]]\n"
     ]
    }
   ],
   "source": [
    "info = np.random.randint(1000,600000,size=(1000000,2))\n",
    "print(info)\n",
    "np.savetxt(\"info.csv\",info,delimiter=\",\")"
   ]
  },
  {
   "cell_type": "code",
   "execution_count": 33,
   "metadata": {},
   "outputs": [
    {
     "name": "stdout",
     "output_type": "stream",
     "text": [
      "[[563579. 311073.]\n",
      " [179516. 456853.]\n",
      " [ 45223. 449345.]\n",
      " ...\n",
      " [368700. 198046.]\n",
      " [341033. 275558.]\n",
      " [367997.  41860.]]\n"
     ]
    }
   ],
   "source": [
    "newinfo = np.genfromtxt(\"info.csv\", delimiter=\",\")\n",
    "print(newinfo)"
   ]
  },
  {
   "cell_type": "code",
   "execution_count": 34,
   "metadata": {
    "scrolled": false
   },
   "outputs": [],
   "source": [
    "incomestandard = 450000\n",
    "outcomestandard = 15000\n",
    "euclidiandistance = []\n",
    "for company in newinfo:\n",
    "    incomedistance = math.pow((company[0] - incomestandard),2)\n",
    "    outcomedistance = math.pow((company[1] - outcomestandard),2)\n",
    "    euclidiandistance.append(incomedistance + outcomedistance)\n",
    "numpyed = np.array(euclidiandistance)\n",
    "#for index in numpyed:\n",
    "    #print(index)"
   ]
  },
  {
   "cell_type": "code",
   "execution_count": 36,
   "metadata": {},
   "outputs": [
    {
     "name": "stdout",
     "output_type": "stream",
     "text": [
      "[ 41915  12003 918592 ...      4      2 499999]\n",
      "[275600. 112996. 343625. 362765. 428740.]\n"
     ]
    }
   ],
   "source": [
    "fivebest = np.argpartition(numpyed, 5)\n",
    "print(fivebest)\n",
    "print(numpyed[fivebest[:5]])"
   ]
  },
  {
   "cell_type": "code",
   "execution_count": null,
   "metadata": {},
   "outputs": [],
   "source": []
  }
 ],
 "metadata": {
  "kernelspec": {
   "display_name": "Python 3",
   "language": "python",
   "name": "python3"
  },
  "language_info": {
   "codemirror_mode": {
    "name": "ipython",
    "version": 3
   },
   "file_extension": ".py",
   "mimetype": "text/x-python",
   "name": "python",
   "nbconvert_exporter": "python",
   "pygments_lexer": "ipython3",
   "version": "3.7.3"
  }
 },
 "nbformat": 4,
 "nbformat_minor": 2
}
